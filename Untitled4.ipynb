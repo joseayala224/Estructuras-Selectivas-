{
  "nbformat": 4,
  "nbformat_minor": 0,
  "metadata": {
    "colab": {
      "provenance": [],
      "authorship_tag": "ABX9TyObp5ivtFoirDAc0JVo7ykA",
      "include_colab_link": true
    },
    "kernelspec": {
      "name": "python3",
      "display_name": "Python 3"
    },
    "language_info": {
      "name": "python"
    }
  },
  "cells": [
    {
      "cell_type": "markdown",
      "metadata": {
        "id": "view-in-github",
        "colab_type": "text"
      },
      "source": [
        "<a href=\"https://colab.research.google.com/github/joseayala224/Estructuras-Selectivas-/blob/main/Untitled4.ipynb\" target=\"_parent\"><img src=\"https://colab.research.google.com/assets/colab-badge.svg\" alt=\"Open In Colab\"/></a>"
      ]
    },
    {
      "cell_type": "code",
      "execution_count": 2,
      "metadata": {
        "id": "9GfXB0jphUte"
      },
      "outputs": [],
      "source": [
        "# dias de semana"
      ]
    },
    {
      "cell_type": "code",
      "source": [
        "start\n",
        "\n",
        "insertar num del (1,7)\n",
        "\n",
        "1 == lunes,\n",
        "2 == martes,\n",
        "3 == miercoles,\n",
        "4 == jueves,\n",
        "5 == viernes,\n",
        "6 == sabado,\n",
        "7 == domingo,\n",
        "input_ num\n",
        "\n",
        "num_menor 1 > 7\n",
        "num_mayor 7 error\n",
        "\n",
        "end"
      ],
      "metadata": {
        "id": "5TI4N5rdmOBs"
      },
      "execution_count": null,
      "outputs": []
    },
    {
      "cell_type": "code",
      "source": [
        "\n",
        "# evaluación de velocidad\n",
        "\n",
        "start\n",
        "\n",
        "input(\"ingrese un numero_ (m == metros)\",)\n",
        "ingrese un numero_ (m == metros)\n",
        "\n",
        "input(\"ingrese un numero_ (s == segundos)\",)\n",
        "ingrese un numero_ (s == segundos)\n",
        "\n",
        "float v=d/T\n",
        "float d == M\n",
        "float T == S\n",
        "\n",
        "end\n"
      ],
      "metadata": {
        "id": "nTecPcu3qZ8K"
      },
      "execution_count": null,
      "outputs": []
    },
    {
      "cell_type": "code",
      "source": [
        "# calculo de total a pagar en la compra de grava\n",
        "\n",
        "start\n",
        "\n",
        "lata de grava 1 (l == 12900 pesos, )\n",
        "transporte (t = 65000 pesos, )\n",
        "ingrese num de latas\n",
        "imput(\"ingrese num de latas\",)\n",
        "num >10_ 10*01\n",
        "num >30 t == gratis\n",
        "\n",
        "end"
      ],
      "metadata": {
        "id": "RXxLzWTRtCzT"
      },
      "execution_count": null,
      "outputs": []
    }
  ]
}